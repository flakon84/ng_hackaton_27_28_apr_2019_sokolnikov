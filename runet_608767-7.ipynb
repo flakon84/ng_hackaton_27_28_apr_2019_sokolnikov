{
 "cells": [
  {
   "cell_type": "code",
   "execution_count": 7,
   "metadata": {},
   "outputs": [],
   "source": []
  },
  {
   "cell_type": "code",
   "execution_count": 8,
   "metadata": {},
   "outputs": [],
   "source": [
    "import requests\n",
    "import json"
   ]
  },
  {
   "cell_type": "code",
   "execution_count": 42,
   "metadata": {},
   "outputs": [],
   "source": [
    "law_number='608767-7' #Номер закона о \"суверенном рунете\""
   ]
  },
  {
   "cell_type": "code",
   "execution_count": 9,
   "metadata": {},
   "outputs": [],
   "source": [
    "#Сам закон\n",
    "law_url = 'http://api.duma.gov.ru/api/'+api_addr+'/search.json?app_token='+app_token+'&number='+law_number\n",
    "law_response = requests.get(law_url)\n",
    "#print(law_response)\n",
    "with open('./runet/law_'+law_number+'.json', 'w') as fp:\n",
    "    json.dump(law_response.json()['laws'], fp, indent=2,ensure_ascii=False)"
   ]
  },
  {
   "cell_type": "code",
   "execution_count": 47,
   "metadata": {},
   "outputs": [],
   "source": [
    "#Стадии и голосования\n",
    "votes_stats_url = 'http://api.duma.gov.ru/api/'+api_addr+'/voteSearch.json?app_token='+app_token+'&number='+law_number\n",
    "votes_stats_response = requests.get(votes_stats_url)\n",
    "#print(votes_response.json())\n",
    "with open('./runet/votes_stats_'+law_number+'.json', 'w') as fp:\n",
    "    json.dump(votes_stats_response.json(), fp, indent=2,ensure_ascii=False)"
   ]
  },
  {
   "cell_type": "code",
   "execution_count": 18,
   "metadata": {},
   "outputs": [],
   "source": [
    "#Стенограммы_закона\n",
    "steno_url='http://api.duma.gov.ru/api/'+api_addr+'/transcript/'+law_number+'.json?app_token='+app_token\n",
    "steno_response = requests.get(steno_url)"
   ]
  },
  {
   "cell_type": "code",
   "execution_count": 19,
   "metadata": {},
   "outputs": [],
   "source": [
    "with open('./runet/stenogramms_'+law_number+'.json', 'w') as fp:\n",
    "    json.dump(steno_response.json(), fp, indent=2,ensure_ascii=False)"
   ]
  },
  {
   "cell_type": "code",
   "execution_count": 41,
   "metadata": {},
   "outputs": [
    {
     "name": "stdout",
     "output_type": "stream",
     "text": [
      "{'line': 2047, 'date': '2019-04-16 11:23:38', 'id': 107479}\n",
      "<Response [200]>\n",
      "{'line': 1748, 'date': '2019-04-11 11:16:00', 'id': 107453}\n",
      "<Response [200]>\n",
      "{'line': 1858, 'date': '2019-04-11 11:22:16', 'id': 107454}\n",
      "<Response [200]>\n",
      "{'line': 1877, 'date': '2019-04-11 11:22:50', 'id': 107455}\n",
      "<Response [200]>\n",
      "{'line': 1893, 'date': '2019-04-11 11:23:15', 'id': 107456}\n",
      "<Response [200]>\n",
      "{'line': 4068, 'date': '2019-02-12 13:48:24', 'id': 107004}\n",
      "<Response [200]>\n"
     ]
    }
   ],
   "source": [
    "for meeting in steno_response.json()['meetings']:\n",
    "    for question in meeting['questions']:\n",
    "        for part in question['parts']:\n",
    "            for vote in part['votes']:\n",
    "                print (vote)\n",
    "                extract_steno_vote(vote['id'])"
   ]
  },
  {
   "cell_type": "code",
   "execution_count": 40,
   "metadata": {},
   "outputs": [],
   "source": [
    "#Извлечение подепутатного голосования\n",
    "def extract_steno_vote(vote_id):\n",
    "    steno_vote_url='http://api.duma.gov.ru/api/'+api_addr+'/vote/'+str(vote_id)+'.json?app_token='+app_token\n",
    "    steno_vote_response = requests.get(steno_vote_url)\n",
    "    print(steno_vote_response)\n",
    "    with open('./runet/steno_votes/law_'+law_number+'_vote'+str(vote_id)+'.json', 'w') as fp:\n",
    "        json.dump(steno_vote_response.json(), fp, indent=2,ensure_ascii=False)"
   ]
  },
  {
   "cell_type": "code",
   "execution_count": null,
   "metadata": {},
   "outputs": [],
   "source": []
  }
 ],
 "metadata": {
  "kernelspec": {
   "display_name": "Python 3",
   "language": "python",
   "name": "python3"
  },
  "language_info": {
   "codemirror_mode": {
    "name": "ipython",
    "version": 3
   },
   "file_extension": ".py",
   "mimetype": "text/x-python",
   "name": "python",
   "nbconvert_exporter": "python",
   "pygments_lexer": "ipython3",
   "version": "3.6.8"
  }
 },
 "nbformat": 4,
 "nbformat_minor": 2
}
